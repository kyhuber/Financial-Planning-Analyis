{
 "cells": [
  {
   "cell_type": "markdown",
   "metadata": {
    "tags": []
   },
   "source": [
    "# Financial Planning with APIs and Simulations\n",
    "\n",
    "In this Challenge, you’ll create two financial analysis tools by using a single Jupyter notebook:\n",
    "\n",
    "Part 1: A financial planner for emergencies. The members will be able to use this tool to visualize their current savings. The members can then determine if they have enough reserves for an emergency fund.\n",
    "\n",
    "Part 2: A financial planner for retirement. This tool will forecast the performance of their retirement portfolio in 30 years. To do this, the tool will make an Alpaca API call via the Alpaca SDK to get historical price data for use in Monte Carlo simulations.\n",
    "\n",
    "You’ll use the information from the Monte Carlo simulation to answer questions about the portfolio in your Jupyter notebook.\n",
    "\n"
   ]
  },
  {
   "cell_type": "code",
   "execution_count": 32,
   "metadata": {},
   "outputs": [],
   "source": [
    "# Import the required libraries and dependencies\n",
    "import os\n",
    "import requests\n",
    "import json\n",
    "import pandas as pd\n",
    "from dotenv import load_dotenv\n",
    "import alpaca_trade_api as tradeapi\n",
    "from MCForecastTools import MCSimulation\n",
    "import warnings\n",
    "warnings.filterwarnings('ignore')\n",
    "\n",
    "%matplotlib inline"
   ]
  },
  {
   "cell_type": "code",
   "execution_count": 33,
   "metadata": {},
   "outputs": [
    {
     "data": {
      "text/plain": [
       "True"
      ]
     },
     "execution_count": 33,
     "metadata": {},
     "output_type": "execute_result"
    }
   ],
   "source": [
    "# Load the environment variables from the .env file\n",
    "#by calling the load_dotenv function\n",
    "load_dotenv()"
   ]
  },
  {
   "cell_type": "markdown",
   "metadata": {},
   "source": [
    "## Part 1: Create a Financial Planner for Emergencies"
   ]
  },
  {
   "cell_type": "markdown",
   "metadata": {},
   "source": [
    "### Evaluate the Cryptocurrency Wallet by Using the Requests Library\n",
    "\n",
    "In this section, you’ll determine the current value of a member’s cryptocurrency wallet. You’ll collect the current prices for the Bitcoin and Ethereum cryptocurrencies by using the Python Requests library. For the prototype, you’ll assume that the member holds the 1.2 Bitcoins (BTC) and 5.3 Ethereum coins (ETH). To do all this, complete the following steps:\n",
    "\n",
    "1. Create a variable named `monthly_income`, and set its value to `12000`.\n",
    "\n",
    "2. Use the Requests library to get the current price (in US dollars) of Bitcoin (BTC) and Ethereum (ETH) by using the API endpoints that the starter code supplies.\n",
    "\n",
    "3. Navigate the JSON response object to access the current price of each coin, and store each in a variable.\n",
    "\n",
    "    > **Hint** Note the specific identifier for each cryptocurrency in the API JSON response. The Bitcoin identifier is `1`, and the Ethereum identifier is `1027`.\n",
    "\n",
    "4. Calculate the value, in US dollars, of the current amount of each cryptocurrency and of the entire cryptocurrency wallet.\n",
    "\n"
   ]
  },
  {
   "cell_type": "code",
   "execution_count": 34,
   "metadata": {},
   "outputs": [],
   "source": [
    "# The current number of coins for each cryptocurrency asset held in the portfolio.\n",
    "btc_coins = 1.2\n",
    "eth_coins = 5.3"
   ]
  },
  {
   "cell_type": "markdown",
   "metadata": {},
   "source": [
    "#### Step 1: Create a variable named `monthly_income`, and set its value to `12000`."
   ]
  },
  {
   "cell_type": "code",
   "execution_count": 35,
   "metadata": {},
   "outputs": [],
   "source": [
    "# The monthly amount for the member's household income\n",
    "monthly_income = 12000\n"
   ]
  },
  {
   "cell_type": "markdown",
   "metadata": {},
   "source": [
    "#### Review the endpoint URLs for the API calls to Free Crypto API in order to get the current pricing information for both BTC and ETH."
   ]
  },
  {
   "cell_type": "code",
   "execution_count": 36,
   "metadata": {},
   "outputs": [],
   "source": [
    "# The Free Crypto API Call endpoint URLs for the held cryptocurrency assets\n",
    "btc_url = \"https://api.alternative.me/v2/ticker/Bitcoin/?convert=USD\"\n",
    "eth_url = \"https://api.alternative.me/v2/ticker/Ethereum/?convert=USD\""
   ]
  },
  {
   "cell_type": "markdown",
   "metadata": {},
   "source": [
    "#### Step 2. Use the Requests library to get the current price (in US dollars) of Bitcoin (BTC) and Ethereum (ETH) by using the API endpoints that the starter code supplied."
   ]
  },
  {
   "cell_type": "code",
   "execution_count": 37,
   "metadata": {},
   "outputs": [
    {
     "name": "stdout",
     "output_type": "stream",
     "text": [
      "{\n",
      "   \"data\": {\n",
      "      \"1\": {\n",
      "         \"id\": 1,\n",
      "         \"name\": \"Bitcoin\",\n",
      "         \"symbol\": \"BTC\",\n",
      "         \"website_slug\": \"bitcoin\",\n",
      "         \"rank\": 1,\n",
      "         \"circulating_supply\": 18947912,\n",
      "         \"total_supply\": 18947912,\n",
      "         \"max_supply\": 21000000,\n",
      "         \"quotes\": {\n",
      "            \"USD\": {\n",
      "               \"price\": 36870.0,\n",
      "               \"volume_24h\": 17021786206,\n",
      "               \"market_cap\": 698686777991,\n",
      "               \"percentage_change_1h\": -0.218447943127999,\n",
      "               \"percentage_change_24h\": -1.70305856146509,\n",
      "               \"percentage_change_7d\": -0.0010382469725559,\n",
      "               \"percent_change_1h\": -0.218447943127999,\n",
      "               \"percent_change_24h\": -1.70305856146509,\n",
      "               \"percent_change_7d\": -0.0010382469725559\n",
      "            }\n",
      "         },\n",
      "         \"last_updated\": 1643910448\n",
      "      }\n",
      "   },\n",
      "   \"metadata\": {\n",
      "      \"timestamp\": 1643910448,\n",
      "      \"num_cryptocurrencies\": 3105,\n",
      "      \"error\": null\n",
      "   }\n",
      "}\n"
     ]
    }
   ],
   "source": [
    "# Using the Python requests library, make an API call to access the current price of BTC\n",
    "btc_response = requests.get(btc_url).json()\n",
    "\n",
    "# Use the json.dumps function to review the response data from the API call\n",
    "json.dumps(btc_response)\n",
    "\n",
    "# Use the indent and sort_keys parameters to make the response object readable\n",
    "print(json.dumps(btc_response, indent=3))\n"
   ]
  },
  {
   "cell_type": "code",
   "execution_count": 38,
   "metadata": {},
   "outputs": [
    {
     "name": "stdout",
     "output_type": "stream",
     "text": [
      "{\n",
      "   \"data\": {\n",
      "      \"1027\": {\n",
      "         \"id\": 1027,\n",
      "         \"name\": \"Ethereum\",\n",
      "         \"symbol\": \"ETH\",\n",
      "         \"website_slug\": \"ethereum\",\n",
      "         \"rank\": 2,\n",
      "         \"circulating_supply\": 119430277,\n",
      "         \"total_supply\": 119430277,\n",
      "         \"max_supply\": 0,\n",
      "         \"quotes\": {\n",
      "            \"USD\": {\n",
      "               \"price\": 2626.51,\n",
      "               \"volume_24h\": 23177790369,\n",
      "               \"market_cap\": 313441936507,\n",
      "               \"percentage_change_1h\": -0.547710461657631,\n",
      "               \"percentage_change_24h\": -2.06474067144504,\n",
      "               \"percentage_change_7d\": 6.31786719338581,\n",
      "               \"percent_change_1h\": -0.547710461657631,\n",
      "               \"percent_change_24h\": -2.06474067144504,\n",
      "               \"percent_change_7d\": 6.31786719338581\n",
      "            }\n",
      "         },\n",
      "         \"last_updated\": 1643910470\n",
      "      }\n",
      "   },\n",
      "   \"metadata\": {\n",
      "      \"timestamp\": 1643910470,\n",
      "      \"num_cryptocurrencies\": 3105,\n",
      "      \"error\": null\n",
      "   }\n",
      "}\n"
     ]
    }
   ],
   "source": [
    "# Using the Python requests library, make an API call to access the current price ETH\n",
    "eth_response = requests.get(eth_url).json()\n",
    "\n",
    "# Use the json.dumps function to review the response data from the API call\n",
    "json.dumps(eth_response)\n",
    "\n",
    "# Use the indent and sort_keys parameters to make the response object readable\n",
    "print(json.dumps(eth_response, indent=3))\n"
   ]
  },
  {
   "cell_type": "markdown",
   "metadata": {},
   "source": [
    "#### Step 3: Navigate the JSON response object to access the current price of each coin, and store each in a variable."
   ]
  },
  {
   "cell_type": "code",
   "execution_count": 39,
   "metadata": {},
   "outputs": [
    {
     "name": "stdout",
     "output_type": "stream",
     "text": [
      "36870.0\n"
     ]
    }
   ],
   "source": [
    "# Navigate the BTC response object to access the current price of BTC\n",
    "btc_price = btc_response[\"data\"][\"1\"][\"quotes\"][\"USD\"][\"price\"]\n",
    "\n",
    "# Print the current price of BTC\n",
    "print(btc_price)\n"
   ]
  },
  {
   "cell_type": "code",
   "execution_count": 40,
   "metadata": {},
   "outputs": [
    {
     "name": "stdout",
     "output_type": "stream",
     "text": [
      "2626.51\n"
     ]
    }
   ],
   "source": [
    "# Navigate the BTC response object to access the current price of ETH\n",
    "eth_price = eth_response[\"data\"][\"1027\"][\"quotes\"][\"USD\"][\"price\"]\n",
    "\n",
    "# Print the current price of ETH\n",
    "print(eth_price)\n"
   ]
  },
  {
   "cell_type": "markdown",
   "metadata": {},
   "source": [
    "### Step 4: Calculate the value, in US dollars, of the current amount of each cryptocurrency and of the entire cryptocurrency wallet."
   ]
  },
  {
   "cell_type": "code",
   "execution_count": 41,
   "metadata": {},
   "outputs": [
    {
     "name": "stdout",
     "output_type": "stream",
     "text": [
      "44244.0\n"
     ]
    }
   ],
   "source": [
    "# Compute the current value of the BTC holding \n",
    "btc_value = float(btc_coins * btc_price)\n",
    "\n",
    "# Print current value of your holding in BTC\n",
    "print(btc_value)\n"
   ]
  },
  {
   "cell_type": "code",
   "execution_count": 42,
   "metadata": {},
   "outputs": [
    {
     "name": "stdout",
     "output_type": "stream",
     "text": [
      "13920.503\n"
     ]
    }
   ],
   "source": [
    "# Compute the current value of the ETH holding \n",
    "eth_value = float(eth_coins * eth_price)\n",
    "\n",
    "# Print current value of your holding in ETH\n",
    "print(eth_value)\n"
   ]
  },
  {
   "cell_type": "code",
   "execution_count": 43,
   "metadata": {},
   "outputs": [
    {
     "name": "stdout",
     "output_type": "stream",
     "text": [
      "58164.503\n"
     ]
    }
   ],
   "source": [
    "# Compute the total value of the cryptocurrency wallet\n",
    "# Add the value of the BTC holding to the value of the ETH holding\n",
    "total_crypto_wallet = btc_value + eth_value\n",
    "\n",
    "# Print current cryptocurrency wallet balance\n",
    "print(total_crypto_wallet)\n"
   ]
  },
  {
   "cell_type": "markdown",
   "metadata": {},
   "source": [
    "### Evaluate the Stock and Bond Holdings by Using the Alpaca SDK\n",
    "\n",
    "In this section, you’ll determine the current value of a member’s stock and bond holdings. You’ll make an API call to Alpaca via the Alpaca SDK to get the current closing prices of the SPDR S&P 500 ETF Trust (ticker: SPY) and of the iShares Core US Aggregate Bond ETF (ticker: AGG). For the prototype, assume that the member holds 110 shares of SPY, which represents the stock portion of their portfolio, and 200 shares of AGG, which represents the bond portion. To do all this, complete the following steps:\n",
    "\n",
    "1. In the `Starter_Code` folder, create an environment file (`.env`) to store the values of your Alpaca API key and Alpaca secret key.\n",
    "\n",
    "2. Set the variables for the Alpaca API and secret keys. Using the Alpaca SDK, create the Alpaca `tradeapi.REST` object. In this object, include the parameters for the Alpaca API key, the secret key, and the version number.\n",
    "\n",
    "3. Set the following parameters for the Alpaca API call:\n",
    "\n",
    "    - `tickers`: Use the tickers for the member’s stock and bond holdings.\n",
    "\n",
    "    - `timeframe`: Use a time frame of one day.\n",
    "\n",
    "    - `start_date` and `end_date`: Use the same date for these parameters, and format them with the date of the previous weekday (or `2020-08-07`). This is because you want the one closing price for the most-recent trading day.\n",
    "\n",
    "4. Get the current closing prices for `SPY` and `AGG` by using the Alpaca `get_barset` function. Format the response as a Pandas DataFrame by including the `df` property at the end of the `get_barset` function.\n",
    "\n",
    "5. Navigating the Alpaca response DataFrame, select the `SPY` and `AGG` closing prices, and store them as variables.\n",
    "\n",
    "6. Calculate the value, in US dollars, of the current amount of shares in each of the stock and bond portions of the portfolio, and print the results.\n"
   ]
  },
  {
   "cell_type": "markdown",
   "metadata": {},
   "source": [
    "#### Review the total number of shares held in both (SPY) and (AGG)."
   ]
  },
  {
   "cell_type": "code",
   "execution_count": 44,
   "metadata": {},
   "outputs": [],
   "source": [
    "# Current amount of shares held in both the stock (SPY) and bond (AGG) portion of the portfolio.\n",
    "spy_shares = 110\n",
    "agg_shares = 200\n"
   ]
  },
  {
   "cell_type": "markdown",
   "metadata": {},
   "source": [
    "#### Step 1: In the `Starter_Code` folder, create an environment file (`.env`) to store the values of your Alpaca API key and Alpaca secret key."
   ]
  },
  {
   "cell_type": "markdown",
   "metadata": {},
   "source": [
    "#### Step 2: Set the variables for the Alpaca API and secret keys. Using the Alpaca SDK, create the Alpaca `tradeapi.REST` object. In this object, include the parameters for the Alpaca API key, the secret key, and the version number."
   ]
  },
  {
   "cell_type": "code",
   "execution_count": 45,
   "metadata": {},
   "outputs": [],
   "source": [
    "# Set the variables for the Alpaca API and secret keys\n",
    "ALPACA_API_KEY = os.getenv(\"ALPACA_API_KEY\")\n",
    "ALPACA_SECRET_KEY = os.getenv(\"ALPACA_SECRET_KEY\")\n",
    "\n",
    "# Create the Alpaca tradeapi.REST object\n",
    "api = tradeapi.REST(\n",
    "    ALPACA_API_KEY,\n",
    "    ALPACA_SECRET_KEY,\n",
    "    api_version = \"v2\"\n",
    ")\n"
   ]
  },
  {
   "cell_type": "markdown",
   "metadata": {},
   "source": [
    "#### Step 3: Set the following parameters for the Alpaca API call:\n",
    "\n",
    "- `tickers`: Use the tickers for the member’s stock and bond holdings.\n",
    "\n",
    "- `timeframe`: Use a time frame of one day.\n",
    "\n",
    "- `start_date` and `end_date`: Use the same date for these parameters, and format them with the date of the previous weekday (or `2020-08-07`). This is because you want the one closing price for the most-recent trading day.\n"
   ]
  },
  {
   "cell_type": "code",
   "execution_count": 46,
   "metadata": {},
   "outputs": [],
   "source": [
    "# Set the tickers for both the bond and stock portion of the portfolio\n",
    "tickers = [\"SPY\", \"AGG\"]\n",
    "\n",
    "# Set timeframe to 1D \n",
    "timeframe = \"1D\"\n",
    "\n",
    "# Format current date as ISO format\n",
    "# Set both the start and end date at the date of your prior weekday \n",
    "# This will give you the closing price of the previous trading day\n",
    "# Alternatively you can use a start and end date of 2020-08-07\n",
    "start_date = pd.Timestamp(\"2022-01-27\", tz=\"America/New_York\").isoformat()\n",
    "end_date = pd.Timestamp(\"2022-01-27\", tz=\"America/New_York\").isoformat()"
   ]
  },
  {
   "cell_type": "markdown",
   "metadata": {
    "tags": []
   },
   "source": [
    "#### Step 4: Get the current closing prices for `SPY` and `AGG` by using the Alpaca `get_barset` function. Format the response as a Pandas DataFrame by including the `df` property at the end of the `get_barset` function."
   ]
  },
  {
   "cell_type": "code",
   "execution_count": 47,
   "metadata": {},
   "outputs": [
    {
     "data": {
      "text/html": [
       "<div>\n",
       "<style scoped>\n",
       "    .dataframe tbody tr th:only-of-type {\n",
       "        vertical-align: middle;\n",
       "    }\n",
       "\n",
       "    .dataframe tbody tr th {\n",
       "        vertical-align: top;\n",
       "    }\n",
       "\n",
       "    .dataframe thead tr th {\n",
       "        text-align: left;\n",
       "    }\n",
       "\n",
       "    .dataframe thead tr:last-of-type th {\n",
       "        text-align: right;\n",
       "    }\n",
       "</style>\n",
       "<table border=\"1\" class=\"dataframe\">\n",
       "  <thead>\n",
       "    <tr>\n",
       "      <th></th>\n",
       "      <th colspan=\"5\" halign=\"left\">AGG</th>\n",
       "      <th colspan=\"5\" halign=\"left\">SPY</th>\n",
       "    </tr>\n",
       "    <tr>\n",
       "      <th></th>\n",
       "      <th>open</th>\n",
       "      <th>high</th>\n",
       "      <th>low</th>\n",
       "      <th>close</th>\n",
       "      <th>volume</th>\n",
       "      <th>open</th>\n",
       "      <th>high</th>\n",
       "      <th>low</th>\n",
       "      <th>close</th>\n",
       "      <th>volume</th>\n",
       "    </tr>\n",
       "    <tr>\n",
       "      <th>time</th>\n",
       "      <th></th>\n",
       "      <th></th>\n",
       "      <th></th>\n",
       "      <th></th>\n",
       "      <th></th>\n",
       "      <th></th>\n",
       "      <th></th>\n",
       "      <th></th>\n",
       "      <th></th>\n",
       "      <th></th>\n",
       "    </tr>\n",
       "  </thead>\n",
       "  <tbody>\n",
       "    <tr>\n",
       "      <th>2022-01-27 00:00:00-05:00</th>\n",
       "      <td>111.62</td>\n",
       "      <td>111.88</td>\n",
       "      <td>111.62</td>\n",
       "      <td>111.72</td>\n",
       "      <td>5836124</td>\n",
       "      <td>438.26</td>\n",
       "      <td>441.58</td>\n",
       "      <td>429.45</td>\n",
       "      <td>431.27</td>\n",
       "      <td>136251597</td>\n",
       "    </tr>\n",
       "  </tbody>\n",
       "</table>\n",
       "</div>"
      ],
      "text/plain": [
       "                              AGG                                      SPY  \\\n",
       "                             open    high     low   close   volume    open   \n",
       "time                                                                         \n",
       "2022-01-27 00:00:00-05:00  111.62  111.88  111.62  111.72  5836124  438.26   \n",
       "\n",
       "                                                              \n",
       "                             high     low   close     volume  \n",
       "time                                                          \n",
       "2022-01-27 00:00:00-05:00  441.58  429.45  431.27  136251597  "
      ]
     },
     "execution_count": 47,
     "metadata": {},
     "output_type": "execute_result"
    }
   ],
   "source": [
    "# Use the Alpaca get_barset function to get current closing prices the portfolio\n",
    "# Be sure to set the `df` property after the function to format the response object as a DataFrame\n",
    "ticker_data = api.get_barset(\n",
    "    tickers,\n",
    "    timeframe,\n",
    "    start=start_date,\n",
    "    end=end_date,\n",
    ").df\n",
    "\n",
    "# Review the first 5 rows of the Alpaca DataFrame\n",
    "ticker_data"
   ]
  },
  {
   "cell_type": "markdown",
   "metadata": {},
   "source": [
    "#### Step 5: Navigating the Alpaca response DataFrame, select the `SPY` and `AGG` closing prices, and store them as variables."
   ]
  },
  {
   "cell_type": "code",
   "execution_count": 48,
   "metadata": {},
   "outputs": [
    {
     "name": "stdout",
     "output_type": "stream",
     "text": [
      "111.72\n"
     ]
    }
   ],
   "source": [
    "# Access the closing price for AGG from the Alpaca DataFrame\n",
    "# Converting the value to a floating point number\n",
    "agg_close_price = float(ticker_data[\"AGG\"][\"close\"])\n",
    "\n",
    "# Print the AGG closing price\n",
    "print(agg_close_price)\n"
   ]
  },
  {
   "cell_type": "code",
   "execution_count": 49,
   "metadata": {},
   "outputs": [
    {
     "name": "stdout",
     "output_type": "stream",
     "text": [
      "431.27\n"
     ]
    }
   ],
   "source": [
    "# Access the closing price for SPY from the Alpaca DataFrame\n",
    "# Converting the value to a floating point number\n",
    "spy_close_price = float(ticker_data[\"SPY\"][\"close\"])\n",
    "\n",
    "# Print the SPY closing price\n",
    "print(spy_close_price)\n"
   ]
  },
  {
   "cell_type": "markdown",
   "metadata": {},
   "source": [
    "#### Step 6: Calculate the value, in US dollars, of the current amount of shares in each of the stock and bond portions of the portfolio, and print the results."
   ]
  },
  {
   "cell_type": "code",
   "execution_count": 50,
   "metadata": {},
   "outputs": [
    {
     "name": "stdout",
     "output_type": "stream",
     "text": [
      "22344.0\n"
     ]
    }
   ],
   "source": [
    "# Calculate the current value of the bond portion of the portfolio\n",
    "agg_value = agg_shares * agg_close_price\n",
    "\n",
    "# Print the current value of the bond portfolio\n",
    "print(agg_value)\n"
   ]
  },
  {
   "cell_type": "code",
   "execution_count": 51,
   "metadata": {},
   "outputs": [
    {
     "name": "stdout",
     "output_type": "stream",
     "text": [
      "47439.7\n"
     ]
    }
   ],
   "source": [
    "# Calculate the current value of the stock portion of the portfolio\n",
    "spy_value = spy_shares * spy_close_price\n",
    "\n",
    "# Print the current value of the stock portfolio\n",
    "print(spy_value)\n"
   ]
  },
  {
   "cell_type": "code",
   "execution_count": 52,
   "metadata": {},
   "outputs": [
    {
     "name": "stdout",
     "output_type": "stream",
     "text": [
      "69783.7\n"
     ]
    }
   ],
   "source": [
    "# Calculate the total value of the stock and bond portion of the portfolio\n",
    "total_stocks_bonds = agg_value + spy_value\n",
    "\n",
    "# Print the current balance of the stock and bond portion of the portfolio\n",
    "print(total_stocks_bonds)\n"
   ]
  },
  {
   "cell_type": "code",
   "execution_count": 53,
   "metadata": {},
   "outputs": [
    {
     "name": "stdout",
     "output_type": "stream",
     "text": [
      "127948.203\n"
     ]
    }
   ],
   "source": [
    "# Calculate the total value of the member's entire savings portfolio\n",
    "# Add the value of the cryptocurrency walled to the value of the total stocks and bonds\n",
    "total_portfolio = total_crypto_wallet + total_stocks_bonds\n",
    "\n",
    "# Print entire savings portfolio balance\n",
    "print(total_portfolio)\n"
   ]
  },
  {
   "cell_type": "markdown",
   "metadata": {},
   "source": [
    "### Evaluate the Emergency Fund\n",
    "\n",
    "In this section, you’ll use the valuations for the cryptocurrency wallet and for the stock and bond portions of the portfolio to determine if the credit union member has enough savings to build an emergency fund into their financial plan. To do this, complete the following steps:\n",
    "\n",
    "1. Create a Python list named `savings_data` that has two elements. The first element contains the total value of the cryptocurrency wallet. The second element contains the total value of the stock and bond portions of the portfolio.\n",
    "\n",
    "2. Use the `savings_data` list to create a Pandas DataFrame named `savings_df`, and then display this DataFrame. The function to create the DataFrame should take the following three parameters:\n",
    "\n",
    "    - `savings_data`: Use the list that you just created.\n",
    "\n",
    "    - `columns`: Set this parameter equal to a Python list with a single value called `amount`.\n",
    "\n",
    "    - `index`: Set this parameter equal to a Python list with the values of `crypto` and `stock/bond`.\n",
    "\n",
    "3. Use the `savings_df` DataFrame to plot a pie chart that visualizes the composition of the member’s portfolio. The y-axis of the pie chart uses `amount`. Be sure to add a title.\n",
    "\n",
    "4. Using Python, determine if the current portfolio has enough to create an emergency fund as part of the member’s financial plan. Ideally, an emergency fund should equal to three times the member’s monthly income. To do this, implement the following steps:\n",
    "\n",
    "    1. Create a variable named `emergency_fund_value`, and set it equal to three times the value of the member’s `monthly_income` of $12000. (You set this earlier in Part 1).\n",
    "\n",
    "    2. Create a series of three if statements to determine if the member’s total portfolio is large enough to fund the emergency portfolio:\n",
    "\n",
    "        1. If the total portfolio value is greater than the emergency fund value, display a message congratulating the member for having enough money in this fund.\n",
    "\n",
    "        2. Else if the total portfolio value is equal to the emergency fund value, display a message congratulating the member on reaching this important financial goal.\n",
    "\n",
    "        3. Else the total portfolio is less than the emergency fund value, so display a message showing how many dollars away the member is from reaching the goal. (Subtract the total portfolio value from the emergency fund value.)\n"
   ]
  },
  {
   "cell_type": "markdown",
   "metadata": {},
   "source": [
    "#### Step 1: Create a Python list named `savings_data` that has two elements. The first element contains the total value of the cryptocurrency wallet. The second element contains the total value of the stock and bond portions of the portfolio."
   ]
  },
  {
   "cell_type": "code",
   "execution_count": 54,
   "metadata": {},
   "outputs": [
    {
     "data": {
      "text/plain": [
       "[58164.503, 69783.7]"
      ]
     },
     "execution_count": 54,
     "metadata": {},
     "output_type": "execute_result"
    }
   ],
   "source": [
    "# Consolidate financial assets data into a Python list\n",
    "savings_data = [total_crypto_wallet, total_stocks_bonds]\n",
    "\n",
    "# Review the Python list savings_data\n",
    "savings_data\n",
    "    "
   ]
  },
  {
   "cell_type": "markdown",
   "metadata": {},
   "source": [
    "#### Step 2: Use the `savings_data` list to create a Pandas DataFrame named `savings_df`, and then display this DataFrame. The function to create the DataFrame should take the following three parameters:\n",
    "\n",
    "- `savings_data`: Use the list that you just created.\n",
    "\n",
    "- `columns`: Set this parameter equal to a Python list with a single value called `amount`.\n",
    "\n",
    "- `index`: Set this parameter equal to a Python list with the values of `crypto` and `stock/bond`.\n"
   ]
  },
  {
   "cell_type": "code",
   "execution_count": 55,
   "metadata": {},
   "outputs": [
    {
     "data": {
      "text/html": [
       "<div>\n",
       "<style scoped>\n",
       "    .dataframe tbody tr th:only-of-type {\n",
       "        vertical-align: middle;\n",
       "    }\n",
       "\n",
       "    .dataframe tbody tr th {\n",
       "        vertical-align: top;\n",
       "    }\n",
       "\n",
       "    .dataframe thead th {\n",
       "        text-align: right;\n",
       "    }\n",
       "</style>\n",
       "<table border=\"1\" class=\"dataframe\">\n",
       "  <thead>\n",
       "    <tr style=\"text-align: right;\">\n",
       "      <th></th>\n",
       "      <th>Amount</th>\n",
       "    </tr>\n",
       "  </thead>\n",
       "  <tbody>\n",
       "    <tr>\n",
       "      <th>Crypto</th>\n",
       "      <td>58164.503</td>\n",
       "    </tr>\n",
       "    <tr>\n",
       "      <th>Stock/Bond</th>\n",
       "      <td>69783.700</td>\n",
       "    </tr>\n",
       "  </tbody>\n",
       "</table>\n",
       "</div>"
      ],
      "text/plain": [
       "               Amount\n",
       "Crypto      58164.503\n",
       "Stock/Bond  69783.700"
      ]
     },
     "execution_count": 55,
     "metadata": {},
     "output_type": "execute_result"
    }
   ],
   "source": [
    "# Create a Pandas DataFrame called savings_df \n",
    "savings_df = pd.DataFrame(savings_data,\n",
    "    columns=[\"Amount\"],\n",
    "    index=[\"Crypto\",\"Stock/Bond\"])\n",
    "\n",
    "# Display the savings_df DataFrame\n",
    "savings_df.head()\n"
   ]
  },
  {
   "cell_type": "markdown",
   "metadata": {},
   "source": [
    "#### Step 3: Use the `savings_df` DataFrame to plot a pie chart that visualizes the composition of the member’s portfolio. The y-axis of the pie chart uses `amount`. Be sure to add a title."
   ]
  },
  {
   "cell_type": "code",
   "execution_count": 67,
   "metadata": {
    "tags": []
   },
   "outputs": [
    {
     "data": {
      "text/plain": [
       "<AxesSubplot:title={'center':'Portfolio Composition'}>"
      ]
     },
     "execution_count": 67,
     "metadata": {},
     "output_type": "execute_result"
    },
    {
     "data": {
      "image/png": "[encoded data removed]",
      "text/plain": [
       "<Figure size 432x288 with 1 Axes>"
      ]
     },
     "metadata": {},
     "output_type": "display_data"
    }
   ],
   "source": [
    "# Plot the total value of the member's portfolio (crypto and stock/bond) in a pie chart\n",
    "savings_df_plot = savings_df.plot.pie(y=\"Amount\",title=\"Portfolio Composition\", ylabel=\"\",legend=False, autopct=\"%.1f\")\n",
    "savings_df_plot"
   ]
  },
  {
   "cell_type": "markdown",
   "metadata": {},
   "source": [
    "#### Step 4: Using Python, determine if the current portfolio has enough to create an emergency fund as part of the member’s financial plan. Ideally, an emergency fund should equal to three times the member’s monthly income. To do this, implement the following steps:\n",
    "\n",
    "Step 1. Create a variable named `emergency_fund_value`, and set it equal to three times the value of the member’s `monthly_income` of 12000. (You set this earlier in Part 1).\n",
    "\n",
    "Step 2. Create a series of three if statements to determine if the member’s total portfolio is large enough to fund the emergency portfolio:\n",
    "\n",
    "* If the total portfolio value is greater than the emergency fund value, display a message congratulating the member for having enough money in this fund.\n",
    "\n",
    "* Else if the total portfolio value is equal to the emergency fund value, display a message congratulating the member on reaching this important financial goal.\n",
    "\n",
    "* Else the total portfolio is less than the emergency fund value, so display a message showing how many dollars away the member is from reaching the goal. (Subtract the total portfolio value from the emergency fund value.)\n"
   ]
  },
  {
   "cell_type": "markdown",
   "metadata": {},
   "source": [
    "##### Step 4-1: Create a variable named `emergency_fund_value`, and set it equal to three times the value of the member’s `monthly_income` of 12000. (You set this earlier in Part 1)."
   ]
  },
  {
   "cell_type": "code",
   "execution_count": 26,
   "metadata": {},
   "outputs": [],
   "source": [
    "# Create a variable named emergency_fund_value\n",
    "emergency_fund_value = monthly_income * 3\n"
   ]
  },
  {
   "cell_type": "markdown",
   "metadata": {},
   "source": [
    "##### Step 4-2: Create a series of three if statements to determine if the member’s total portfolio is large enough to fund the emergency portfolio:\n",
    "\n",
    "* If the total portfolio value is greater than the emergency fund value, display a message congratulating the member for having enough money in this fund.\n",
    "\n",
    "* Else if the total portfolio value is equal to the emergency fund value, display a message congratulating the member on reaching this important financial goal.\n",
    "\n",
    "* Else the total portfolio is less than the emergency fund value, so display a message showing how many dollars away the member is from reaching the goal. (Subtract the total portfolio value from the emergency fund value.)"
   ]
  },
  {
   "cell_type": "code",
   "execution_count": 68,
   "metadata": {},
   "outputs": [
    {
     "name": "stdout",
     "output_type": "stream",
     "text": [
      "Congratulations for having plenty of money\n"
     ]
    }
   ],
   "source": [
    "# Evaluate the possibility of creating an emergency fund with 3 conditions:\n",
    "if total_portfolio > emergency_fund_value:\n",
    "    print(\"Congratulations for having plenty of money\")\n",
    "# YOUR CODE HERE\n",
    "elif total_portfolio == emergency_fund_value:\n",
    "    print(\"Congratulations on reaching this important goal\")\n",
    "# YOUR CODE HERE\n",
    "else:\n",
    "    print(f\"Sorry you don't have enough money in this account, you will need to save {emergency_fund_value - total_portfolio}\")"
   ]
  },
  {
   "cell_type": "markdown",
   "metadata": {},
   "source": [
    "## Part 2: Create a Financial Planner for Retirement"
   ]
  },
  {
   "cell_type": "markdown",
   "metadata": {},
   "source": [
    "### Create the Monte Carlo Simulation\n",
    "\n",
    "In this section, you’ll use the MCForecastTools library to create a Monte Carlo simulation for the member’s savings portfolio. To do this, complete the following steps:\n",
    "\n",
    "1. Make an API call via the Alpaca SDK to get 3 years of historical closing prices for a traditional 60/40 portfolio split: 60% stocks (SPY) and 40% bonds (AGG).\n",
    "\n",
    "2. Run a Monte Carlo simulation of 500 samples and 30 years for the 60/40 portfolio, and then plot the results.The following image shows the overlay line plot resulting from a simulation with these characteristics. However, because a random number generator is used to run each live Monte Carlo simulation, your image will differ slightly from this exact image:\n",
    "\n",
    "![A screenshot depicts the resulting plot.](Images/5-4-monte-carlo-line-plot.png)\n",
    "\n",
    "3. Plot the probability distribution of the Monte Carlo simulation. Plot the probability distribution of the Monte Carlo simulation. The following image shows the histogram plot resulting from a simulation with these characteristics. However, because a random number generator is used to run each live Monte Carlo simulation, your image will differ slightly from this exact image:\n",
    "\n",
    "![A screenshot depicts the histogram plot.](Images/5-4-monte-carlo-histogram.png)\n",
    "\n",
    "4. Generate the summary statistics for the Monte Carlo simulation.\n",
    "\n"
   ]
  },
  {
   "cell_type": "markdown",
   "metadata": {},
   "source": [
    "#### Step 1: Make an API call via the Alpaca SDK to get 3 years of historical closing prices for a traditional 60/40 portfolio split: 60% stocks (SPY) and 40% bonds (AGG)."
   ]
  },
  {
   "cell_type": "code",
   "execution_count": 73,
   "metadata": {
    "tags": []
   },
   "outputs": [],
   "source": [
    "# Set start and end dates of 3 years back from your current date\n",
    "# Alternatively, you can use an end date of 2020-08-07 and work 3 years back from that date\n",
    "start_date = pd.Timestamp(\"2019-01-27\", tz=\"America/New_York\").isoformat()\n",
    "end_date = pd.Timestamp(\"2022-01-27\", tz=\"America/New_York\").isoformat()\n",
    "\n",
    "# Set number of rows to 1000 to retrieve the maximum amount of rows\n",
    "limit_3yr = 1000"
   ]
  },
  {
   "cell_type": "code",
   "execution_count": 74,
   "metadata": {},
   "outputs": [
    {
     "data": {
      "text/html": [
       "<div>\n",
       "<style scoped>\n",
       "    .dataframe tbody tr th:only-of-type {\n",
       "        vertical-align: middle;\n",
       "    }\n",
       "\n",
       "    .dataframe tbody tr th {\n",
       "        vertical-align: top;\n",
       "    }\n",
       "\n",
       "    .dataframe thead tr th {\n",
       "        text-align: left;\n",
       "    }\n",
       "\n",
       "    .dataframe thead tr:last-of-type th {\n",
       "        text-align: right;\n",
       "    }\n",
       "</style>\n",
       "<table border=\"1\" class=\"dataframe\">\n",
       "  <thead>\n",
       "    <tr>\n",
       "      <th></th>\n",
       "      <th colspan=\"5\" halign=\"left\">AGG</th>\n",
       "      <th colspan=\"5\" halign=\"left\">SPY</th>\n",
       "    </tr>\n",
       "    <tr>\n",
       "      <th></th>\n",
       "      <th>open</th>\n",
       "      <th>high</th>\n",
       "      <th>low</th>\n",
       "      <th>close</th>\n",
       "      <th>volume</th>\n",
       "      <th>open</th>\n",
       "      <th>high</th>\n",
       "      <th>low</th>\n",
       "      <th>close</th>\n",
       "      <th>volume</th>\n",
       "    </tr>\n",
       "    <tr>\n",
       "      <th>time</th>\n",
       "      <th></th>\n",
       "      <th></th>\n",
       "      <th></th>\n",
       "      <th></th>\n",
       "      <th></th>\n",
       "      <th></th>\n",
       "      <th></th>\n",
       "      <th></th>\n",
       "      <th></th>\n",
       "      <th></th>\n",
       "    </tr>\n",
       "  </thead>\n",
       "  <tbody>\n",
       "    <tr>\n",
       "      <th>2022-01-21 00:00:00-05:00</th>\n",
       "      <td>112.1900</td>\n",
       "      <td>112.35</td>\n",
       "      <td>112.11</td>\n",
       "      <td>112.24</td>\n",
       "      <td>7792653.0</td>\n",
       "      <td>445.56</td>\n",
       "      <td>448.06</td>\n",
       "      <td>437.97</td>\n",
       "      <td>438.11</td>\n",
       "      <td>174541929</td>\n",
       "    </tr>\n",
       "    <tr>\n",
       "      <th>2022-01-24 00:00:00-05:00</th>\n",
       "      <td>112.3814</td>\n",
       "      <td>112.42</td>\n",
       "      <td>112.10</td>\n",
       "      <td>112.12</td>\n",
       "      <td>10666672.0</td>\n",
       "      <td>432.03</td>\n",
       "      <td>440.38</td>\n",
       "      <td>420.76</td>\n",
       "      <td>439.88</td>\n",
       "      <td>233026938</td>\n",
       "    </tr>\n",
       "    <tr>\n",
       "      <th>2022-01-25 00:00:00-05:00</th>\n",
       "      <td>112.1800</td>\n",
       "      <td>112.30</td>\n",
       "      <td>111.96</td>\n",
       "      <td>112.00</td>\n",
       "      <td>9392367.0</td>\n",
       "      <td>433.06</td>\n",
       "      <td>439.72</td>\n",
       "      <td>364.68</td>\n",
       "      <td>434.51</td>\n",
       "      <td>148023735</td>\n",
       "    </tr>\n",
       "    <tr>\n",
       "      <th>2022-01-26 00:00:00-05:00</th>\n",
       "      <td>112.0600</td>\n",
       "      <td>112.13</td>\n",
       "      <td>111.36</td>\n",
       "      <td>111.36</td>\n",
       "      <td>10170465.0</td>\n",
       "      <td>440.72</td>\n",
       "      <td>444.04</td>\n",
       "      <td>428.86</td>\n",
       "      <td>433.45</td>\n",
       "      <td>174214548</td>\n",
       "    </tr>\n",
       "    <tr>\n",
       "      <th>2022-01-27 00:00:00-05:00</th>\n",
       "      <td>111.6200</td>\n",
       "      <td>111.88</td>\n",
       "      <td>111.62</td>\n",
       "      <td>111.72</td>\n",
       "      <td>5836124.0</td>\n",
       "      <td>438.26</td>\n",
       "      <td>441.58</td>\n",
       "      <td>429.45</td>\n",
       "      <td>431.27</td>\n",
       "      <td>136251597</td>\n",
       "    </tr>\n",
       "  </tbody>\n",
       "</table>\n",
       "</div>"
      ],
      "text/plain": [
       "                                AGG                                      \\\n",
       "                               open    high     low   close      volume   \n",
       "time                                                                      \n",
       "2022-01-21 00:00:00-05:00  112.1900  112.35  112.11  112.24   7792653.0   \n",
       "2022-01-24 00:00:00-05:00  112.3814  112.42  112.10  112.12  10666672.0   \n",
       "2022-01-25 00:00:00-05:00  112.1800  112.30  111.96  112.00   9392367.0   \n",
       "2022-01-26 00:00:00-05:00  112.0600  112.13  111.36  111.36  10170465.0   \n",
       "2022-01-27 00:00:00-05:00  111.6200  111.88  111.62  111.72   5836124.0   \n",
       "\n",
       "                              SPY                                     \n",
       "                             open    high     low   close     volume  \n",
       "time                                                                  \n",
       "2022-01-21 00:00:00-05:00  445.56  448.06  437.97  438.11  174541929  \n",
       "2022-01-24 00:00:00-05:00  432.03  440.38  420.76  439.88  233026938  \n",
       "2022-01-25 00:00:00-05:00  433.06  439.72  364.68  434.51  148023735  \n",
       "2022-01-26 00:00:00-05:00  440.72  444.04  428.86  433.45  174214548  \n",
       "2022-01-27 00:00:00-05:00  438.26  441.58  429.45  431.27  136251597  "
      ]
     },
     "execution_count": 74,
     "metadata": {},
     "output_type": "execute_result"
    }
   ],
   "source": [
    "# Use the Alpaca get_barset function to make the API call to get the 3 years worth of pricing data\n",
    "# The tickers and timeframe parameters should have been set in Part 1 of this activity \n",
    "# The start and end dates should be updated with the information set above\n",
    "# Remember to add the df property to the end of the call so the response is returned as a DataFrame\n",
    "ticker_data_3yr = api.get_barset(\n",
    "    tickers,\n",
    "    timeframe,\n",
    "    start=start_date,\n",
    "    end=end_date,\n",
    "    limit=limit_3yr\n",
    ").df\n",
    "\n",
    "\n",
    "# Display both the first and last five rows of the DataFrame\n",
    "ticker_data_3yr.head()\n",
    "ticker_data_3yr.tail()\n"
   ]
  },
  {
   "cell_type": "markdown",
   "metadata": {
    "tags": []
   },
   "source": [
    "#### Step 2: Run a Monte Carlo simulation of 500 samples and 30 years for the 60/40 portfolio, and then plot the results."
   ]
  },
  {
   "cell_type": "code",
   "execution_count": 75,
   "metadata": {},
   "outputs": [
    {
     "data": {
      "text/html": [
       "<div>\n",
       "<style scoped>\n",
       "    .dataframe tbody tr th:only-of-type {\n",
       "        vertical-align: middle;\n",
       "    }\n",
       "\n",
       "    .dataframe tbody tr th {\n",
       "        vertical-align: top;\n",
       "    }\n",
       "\n",
       "    .dataframe thead tr th {\n",
       "        text-align: left;\n",
       "    }\n",
       "\n",
       "    .dataframe thead tr:last-of-type th {\n",
       "        text-align: right;\n",
       "    }\n",
       "</style>\n",
       "<table border=\"1\" class=\"dataframe\">\n",
       "  <thead>\n",
       "    <tr>\n",
       "      <th></th>\n",
       "      <th colspan=\"6\" halign=\"left\">AGG</th>\n",
       "      <th colspan=\"6\" halign=\"left\">SPY</th>\n",
       "    </tr>\n",
       "    <tr>\n",
       "      <th></th>\n",
       "      <th>open</th>\n",
       "      <th>high</th>\n",
       "      <th>low</th>\n",
       "      <th>close</th>\n",
       "      <th>volume</th>\n",
       "      <th>daily_return</th>\n",
       "      <th>open</th>\n",
       "      <th>high</th>\n",
       "      <th>low</th>\n",
       "      <th>close</th>\n",
       "      <th>volume</th>\n",
       "      <th>daily_return</th>\n",
       "    </tr>\n",
       "    <tr>\n",
       "      <th>time</th>\n",
       "      <th></th>\n",
       "      <th></th>\n",
       "      <th></th>\n",
       "      <th></th>\n",
       "      <th></th>\n",
       "      <th></th>\n",
       "      <th></th>\n",
       "      <th></th>\n",
       "      <th></th>\n",
       "      <th></th>\n",
       "      <th></th>\n",
       "      <th></th>\n",
       "    </tr>\n",
       "  </thead>\n",
       "  <tbody>\n",
       "    <tr>\n",
       "      <th>2019-01-28 00:00:00-05:00</th>\n",
       "      <td>106.62</td>\n",
       "      <td>106.745</td>\n",
       "      <td>106.580</td>\n",
       "      <td>106.6550</td>\n",
       "      <td>6372589.0</td>\n",
       "      <td>NaN</td>\n",
       "      <td>263.39</td>\n",
       "      <td>263.82</td>\n",
       "      <td>261.79</td>\n",
       "      <td>263.6350</td>\n",
       "      <td>75207990</td>\n",
       "      <td>NaN</td>\n",
       "    </tr>\n",
       "    <tr>\n",
       "      <th>2019-01-29 00:00:00-05:00</th>\n",
       "      <td>106.73</td>\n",
       "      <td>106.910</td>\n",
       "      <td>106.685</td>\n",
       "      <td>106.9063</td>\n",
       "      <td>5399892.0</td>\n",
       "      <td>0.002356</td>\n",
       "      <td>263.92</td>\n",
       "      <td>264.55</td>\n",
       "      <td>262.48</td>\n",
       "      <td>263.3100</td>\n",
       "      <td>54249161</td>\n",
       "      <td>-0.001233</td>\n",
       "    </tr>\n",
       "    <tr>\n",
       "      <th>2019-01-30 00:00:00-05:00</th>\n",
       "      <td>106.79</td>\n",
       "      <td>107.140</td>\n",
       "      <td>106.790</td>\n",
       "      <td>107.1400</td>\n",
       "      <td>4948983.0</td>\n",
       "      <td>0.002186</td>\n",
       "      <td>265.10</td>\n",
       "      <td>268.52</td>\n",
       "      <td>264.25</td>\n",
       "      <td>267.4625</td>\n",
       "      <td>75091893</td>\n",
       "      <td>0.015770</td>\n",
       "    </tr>\n",
       "    <tr>\n",
       "      <th>2019-01-31 00:00:00-05:00</th>\n",
       "      <td>107.30</td>\n",
       "      <td>107.530</td>\n",
       "      <td>107.290</td>\n",
       "      <td>107.4600</td>\n",
       "      <td>11394113.0</td>\n",
       "      <td>0.002987</td>\n",
       "      <td>267.51</td>\n",
       "      <td>270.47</td>\n",
       "      <td>267.27</td>\n",
       "      <td>270.2325</td>\n",
       "      <td>73699733</td>\n",
       "      <td>0.010357</td>\n",
       "    </tr>\n",
       "    <tr>\n",
       "      <th>2019-02-01 00:00:00-05:00</th>\n",
       "      <td>107.09</td>\n",
       "      <td>107.150</td>\n",
       "      <td>106.880</td>\n",
       "      <td>106.9600</td>\n",
       "      <td>5325410.0</td>\n",
       "      <td>-0.004653</td>\n",
       "      <td>270.15</td>\n",
       "      <td>271.20</td>\n",
       "      <td>269.18</td>\n",
       "      <td>270.0700</td>\n",
       "      <td>68194167</td>\n",
       "      <td>-0.000601</td>\n",
       "    </tr>\n",
       "  </tbody>\n",
       "</table>\n",
       "</div>"
      ],
      "text/plain": [
       "                              AGG                                          \\\n",
       "                             open     high      low     close      volume   \n",
       "time                                                                        \n",
       "2019-01-28 00:00:00-05:00  106.62  106.745  106.580  106.6550   6372589.0   \n",
       "2019-01-29 00:00:00-05:00  106.73  106.910  106.685  106.9063   5399892.0   \n",
       "2019-01-30 00:00:00-05:00  106.79  107.140  106.790  107.1400   4948983.0   \n",
       "2019-01-31 00:00:00-05:00  107.30  107.530  107.290  107.4600  11394113.0   \n",
       "2019-02-01 00:00:00-05:00  107.09  107.150  106.880  106.9600   5325410.0   \n",
       "\n",
       "                                           SPY                            \\\n",
       "                          daily_return    open    high     low     close   \n",
       "time                                                                       \n",
       "2019-01-28 00:00:00-05:00          NaN  263.39  263.82  261.79  263.6350   \n",
       "2019-01-29 00:00:00-05:00     0.002356  263.92  264.55  262.48  263.3100   \n",
       "2019-01-30 00:00:00-05:00     0.002186  265.10  268.52  264.25  267.4625   \n",
       "2019-01-31 00:00:00-05:00     0.002987  267.51  270.47  267.27  270.2325   \n",
       "2019-02-01 00:00:00-05:00    -0.004653  270.15  271.20  269.18  270.0700   \n",
       "\n",
       "                                                  \n",
       "                             volume daily_return  \n",
       "time                                              \n",
       "2019-01-28 00:00:00-05:00  75207990          NaN  \n",
       "2019-01-29 00:00:00-05:00  54249161    -0.001233  \n",
       "2019-01-30 00:00:00-05:00  75091893     0.015770  \n",
       "2019-01-31 00:00:00-05:00  73699733     0.010357  \n",
       "2019-02-01 00:00:00-05:00  68194167    -0.000601  "
      ]
     },
     "execution_count": 75,
     "metadata": {},
     "output_type": "execute_result"
    }
   ],
   "source": [
    "# Configure the Monte Carlo simulation to forecast 30 years cumulative returns\n",
    "# The weights should be split 40% to AGG and 60% to SPY.\n",
    "# Run 500 samples.\n",
    "mc_30yr=MCSimulation(\n",
    "    portfolio_data=ticker_data_3yr,\n",
    "    weights=[.4,.6],\n",
    "    num_simulation=500,\n",
    "    num_trading_days=252*30)\n",
    "\n",
    "# Review the simulation input data\n",
    "mc_30yr.portfolio_data.head()\n"
   ]
  },
  {
   "cell_type": "code",
   "execution_count": 76,
   "metadata": {},
   "outputs": [
    {
     "name": "stdout",
     "output_type": "stream",
     "text": [
      "Running Monte Carlo simulation number 0.\n",
      "Running Monte Carlo simulation number 10.\n",
      "Running Monte Carlo simulation number 20.\n",
      "Running Monte Carlo simulation number 30.\n",
      "Running Monte Carlo simulation number 40.\n",
      "Running Monte Carlo simulation number 50.\n",
      "Running Monte Carlo simulation number 60.\n",
      "Running Monte Carlo simulation number 70.\n",
      "Running Monte Carlo simulation number 80.\n",
      "Running Monte Carlo simulation number 90.\n",
      "Running Monte Carlo simulation number 100.\n",
      "Running Monte Carlo simulation number 110.\n",
      "Running Monte Carlo simulation number 120.\n",
      "Running Monte Carlo simulation number 130.\n",
      "Running Monte Carlo simulation number 140.\n",
      "Running Monte Carlo simulation number 150.\n",
      "Running Monte Carlo simulation number 160.\n",
      "Running Monte Carlo simulation number 170.\n",
      "Running Monte Carlo simulation number 180.\n",
      "Running Monte Carlo simulation number 190.\n",
      "Running Monte Carlo simulation number 200.\n",
      "Running Monte Carlo simulation number 210.\n",
      "Running Monte Carlo simulation number 220.\n",
      "Running Monte Carlo simulation number 230.\n",
      "Running Monte Carlo simulation number 240.\n",
      "Running Monte Carlo simulation number 250.\n",
      "Running Monte Carlo simulation number 260.\n",
      "Running Monte Carlo simulation number 270.\n",
      "Running Monte Carlo simulation number 280.\n",
      "Running Monte Carlo simulation number 290.\n",
      "Running Monte Carlo simulation number 300.\n",
      "Running Monte Carlo simulation number 310.\n",
      "Running Monte Carlo simulation number 320.\n",
      "Running Monte Carlo simulation number 330.\n",
      "Running Monte Carlo simulation number 340.\n",
      "Running Monte Carlo simulation number 350.\n",
      "Running Monte Carlo simulation number 360.\n",
      "Running Monte Carlo simulation number 370.\n",
      "Running Monte Carlo simulation number 380.\n",
      "Running Monte Carlo simulation number 390.\n",
      "Running Monte Carlo simulation number 400.\n",
      "Running Monte Carlo simulation number 410.\n",
      "Running Monte Carlo simulation number 420.\n",
      "Running Monte Carlo simulation number 430.\n",
      "Running Monte Carlo simulation number 440.\n",
      "Running Monte Carlo simulation number 450.\n",
      "Running Monte Carlo simulation number 460.\n",
      "Running Monte Carlo simulation number 470.\n",
      "Running Monte Carlo simulation number 480.\n",
      "Running Monte Carlo simulation number 490.\n"
     ]
    },
    {
     "data": {
      "text/html": [
       "<div>\n",
       "<style scoped>\n",
       "    .dataframe tbody tr th:only-of-type {\n",
       "        vertical-align: middle;\n",
       "    }\n",
       "\n",
       "    .dataframe tbody tr th {\n",
       "        vertical-align: top;\n",
       "    }\n",
       "\n",
       "    .dataframe thead th {\n",
       "        text-align: right;\n",
       "    }\n",
       "</style>\n",
       "<table border=\"1\" class=\"dataframe\">\n",
       "  <thead>\n",
       "    <tr style=\"text-align: right;\">\n",
       "      <th></th>\n",
       "      <th>0</th>\n",
       "      <th>1</th>\n",
       "      <th>2</th>\n",
       "      <th>3</th>\n",
       "      <th>4</th>\n",
       "      <th>5</th>\n",
       "      <th>6</th>\n",
       "      <th>7</th>\n",
       "      <th>8</th>\n",
       "      <th>9</th>\n",
       "      <th>...</th>\n",
       "      <th>490</th>\n",
       "      <th>491</th>\n",
       "      <th>492</th>\n",
       "      <th>493</th>\n",
       "      <th>494</th>\n",
       "      <th>495</th>\n",
       "      <th>496</th>\n",
       "      <th>497</th>\n",
       "      <th>498</th>\n",
       "      <th>499</th>\n",
       "    </tr>\n",
       "  </thead>\n",
       "  <tbody>\n",
       "    <tr>\n",
       "      <th>0</th>\n",
       "      <td>1.000000</td>\n",
       "      <td>1.000000</td>\n",
       "      <td>1.000000</td>\n",
       "      <td>1.000000</td>\n",
       "      <td>1.000000</td>\n",
       "      <td>1.000000</td>\n",
       "      <td>1.000000</td>\n",
       "      <td>1.000000</td>\n",
       "      <td>1.000000</td>\n",
       "      <td>1.000000</td>\n",
       "      <td>...</td>\n",
       "      <td>1.000000</td>\n",
       "      <td>1.000000</td>\n",
       "      <td>1.000000</td>\n",
       "      <td>1.000000</td>\n",
       "      <td>1.000000</td>\n",
       "      <td>1.000000</td>\n",
       "      <td>1.000000</td>\n",
       "      <td>1.000000</td>\n",
       "      <td>1.000000</td>\n",
       "      <td>1.000000</td>\n",
       "    </tr>\n",
       "    <tr>\n",
       "      <th>1</th>\n",
       "      <td>0.985706</td>\n",
       "      <td>1.006282</td>\n",
       "      <td>0.991263</td>\n",
       "      <td>0.998769</td>\n",
       "      <td>1.001073</td>\n",
       "      <td>1.010167</td>\n",
       "      <td>0.989996</td>\n",
       "      <td>0.999134</td>\n",
       "      <td>0.991506</td>\n",
       "      <td>0.987855</td>\n",
       "      <td>...</td>\n",
       "      <td>0.983721</td>\n",
       "      <td>1.002444</td>\n",
       "      <td>1.005247</td>\n",
       "      <td>1.003381</td>\n",
       "      <td>1.001638</td>\n",
       "      <td>0.979787</td>\n",
       "      <td>0.995982</td>\n",
       "      <td>1.004489</td>\n",
       "      <td>0.987742</td>\n",
       "      <td>1.008444</td>\n",
       "    </tr>\n",
       "    <tr>\n",
       "      <th>2</th>\n",
       "      <td>0.996156</td>\n",
       "      <td>1.011270</td>\n",
       "      <td>0.994433</td>\n",
       "      <td>1.015662</td>\n",
       "      <td>1.010868</td>\n",
       "      <td>1.016092</td>\n",
       "      <td>0.990868</td>\n",
       "      <td>1.002833</td>\n",
       "      <td>0.982784</td>\n",
       "      <td>0.995120</td>\n",
       "      <td>...</td>\n",
       "      <td>0.982927</td>\n",
       "      <td>1.005266</td>\n",
       "      <td>1.004336</td>\n",
       "      <td>1.007636</td>\n",
       "      <td>0.997721</td>\n",
       "      <td>0.978300</td>\n",
       "      <td>0.994754</td>\n",
       "      <td>1.002612</td>\n",
       "      <td>0.985319</td>\n",
       "      <td>0.984902</td>\n",
       "    </tr>\n",
       "    <tr>\n",
       "      <th>3</th>\n",
       "      <td>0.987849</td>\n",
       "      <td>1.016784</td>\n",
       "      <td>0.980324</td>\n",
       "      <td>1.027420</td>\n",
       "      <td>1.016172</td>\n",
       "      <td>1.023653</td>\n",
       "      <td>1.001812</td>\n",
       "      <td>0.995973</td>\n",
       "      <td>0.983272</td>\n",
       "      <td>0.997443</td>\n",
       "      <td>...</td>\n",
       "      <td>0.976094</td>\n",
       "      <td>1.001524</td>\n",
       "      <td>1.001685</td>\n",
       "      <td>1.008405</td>\n",
       "      <td>0.996544</td>\n",
       "      <td>0.975688</td>\n",
       "      <td>0.996663</td>\n",
       "      <td>1.009353</td>\n",
       "      <td>0.982706</td>\n",
       "      <td>1.000775</td>\n",
       "    </tr>\n",
       "    <tr>\n",
       "      <th>4</th>\n",
       "      <td>0.981709</td>\n",
       "      <td>1.027414</td>\n",
       "      <td>0.979711</td>\n",
       "      <td>1.032776</td>\n",
       "      <td>1.010694</td>\n",
       "      <td>1.027398</td>\n",
       "      <td>0.998506</td>\n",
       "      <td>0.996806</td>\n",
       "      <td>0.991900</td>\n",
       "      <td>1.009711</td>\n",
       "      <td>...</td>\n",
       "      <td>0.976719</td>\n",
       "      <td>1.001721</td>\n",
       "      <td>1.003657</td>\n",
       "      <td>1.021044</td>\n",
       "      <td>1.015987</td>\n",
       "      <td>0.963884</td>\n",
       "      <td>0.997382</td>\n",
       "      <td>1.009122</td>\n",
       "      <td>0.956499</td>\n",
       "      <td>1.005335</td>\n",
       "    </tr>\n",
       "    <tr>\n",
       "      <th>...</th>\n",
       "      <td>...</td>\n",
       "      <td>...</td>\n",
       "      <td>...</td>\n",
       "      <td>...</td>\n",
       "      <td>...</td>\n",
       "      <td>...</td>\n",
       "      <td>...</td>\n",
       "      <td>...</td>\n",
       "      <td>...</td>\n",
       "      <td>...</td>\n",
       "      <td>...</td>\n",
       "      <td>...</td>\n",
       "      <td>...</td>\n",
       "      <td>...</td>\n",
       "      <td>...</td>\n",
       "      <td>...</td>\n",
       "      <td>...</td>\n",
       "      <td>...</td>\n",
       "      <td>...</td>\n",
       "      <td>...</td>\n",
       "      <td>...</td>\n",
       "    </tr>\n",
       "    <tr>\n",
       "      <th>7556</th>\n",
       "      <td>22.573407</td>\n",
       "      <td>39.976065</td>\n",
       "      <td>9.330598</td>\n",
       "      <td>26.387421</td>\n",
       "      <td>39.278997</td>\n",
       "      <td>15.458772</td>\n",
       "      <td>29.808666</td>\n",
       "      <td>16.892051</td>\n",
       "      <td>53.199687</td>\n",
       "      <td>29.372015</td>\n",
       "      <td>...</td>\n",
       "      <td>27.928849</td>\n",
       "      <td>12.158927</td>\n",
       "      <td>35.526294</td>\n",
       "      <td>12.230807</td>\n",
       "      <td>17.592341</td>\n",
       "      <td>18.724214</td>\n",
       "      <td>10.207640</td>\n",
       "      <td>33.663482</td>\n",
       "      <td>9.658296</td>\n",
       "      <td>19.639249</td>\n",
       "    </tr>\n",
       "    <tr>\n",
       "      <th>7557</th>\n",
       "      <td>22.729648</td>\n",
       "      <td>40.501858</td>\n",
       "      <td>9.322056</td>\n",
       "      <td>26.657947</td>\n",
       "      <td>39.209343</td>\n",
       "      <td>15.495628</td>\n",
       "      <td>29.790569</td>\n",
       "      <td>16.820412</td>\n",
       "      <td>53.588979</td>\n",
       "      <td>29.279557</td>\n",
       "      <td>...</td>\n",
       "      <td>27.893669</td>\n",
       "      <td>12.031581</td>\n",
       "      <td>35.944412</td>\n",
       "      <td>12.337333</td>\n",
       "      <td>17.827903</td>\n",
       "      <td>18.778529</td>\n",
       "      <td>10.249565</td>\n",
       "      <td>34.233320</td>\n",
       "      <td>9.703249</td>\n",
       "      <td>19.608642</td>\n",
       "    </tr>\n",
       "    <tr>\n",
       "      <th>7558</th>\n",
       "      <td>23.008090</td>\n",
       "      <td>41.063538</td>\n",
       "      <td>9.231638</td>\n",
       "      <td>26.714558</td>\n",
       "      <td>39.334424</td>\n",
       "      <td>15.461826</td>\n",
       "      <td>29.303600</td>\n",
       "      <td>17.089675</td>\n",
       "      <td>53.069166</td>\n",
       "      <td>29.825835</td>\n",
       "      <td>...</td>\n",
       "      <td>27.822063</td>\n",
       "      <td>12.039681</td>\n",
       "      <td>36.136582</td>\n",
       "      <td>12.334587</td>\n",
       "      <td>18.028081</td>\n",
       "      <td>18.964398</td>\n",
       "      <td>10.287353</td>\n",
       "      <td>34.667724</td>\n",
       "      <td>9.765271</td>\n",
       "      <td>19.674512</td>\n",
       "    </tr>\n",
       "    <tr>\n",
       "      <th>7559</th>\n",
       "      <td>22.769899</td>\n",
       "      <td>40.412322</td>\n",
       "      <td>9.282789</td>\n",
       "      <td>26.796455</td>\n",
       "      <td>38.773764</td>\n",
       "      <td>15.481345</td>\n",
       "      <td>29.408035</td>\n",
       "      <td>17.108968</td>\n",
       "      <td>52.514067</td>\n",
       "      <td>29.905862</td>\n",
       "      <td>...</td>\n",
       "      <td>28.432981</td>\n",
       "      <td>12.144619</td>\n",
       "      <td>36.028437</td>\n",
       "      <td>12.446070</td>\n",
       "      <td>18.102887</td>\n",
       "      <td>18.916302</td>\n",
       "      <td>10.467489</td>\n",
       "      <td>34.793307</td>\n",
       "      <td>9.672804</td>\n",
       "      <td>19.363591</td>\n",
       "    </tr>\n",
       "    <tr>\n",
       "      <th>7560</th>\n",
       "      <td>22.875225</td>\n",
       "      <td>40.991977</td>\n",
       "      <td>9.097765</td>\n",
       "      <td>26.134957</td>\n",
       "      <td>38.448137</td>\n",
       "      <td>15.472514</td>\n",
       "      <td>29.420890</td>\n",
       "      <td>17.015492</td>\n",
       "      <td>51.956149</td>\n",
       "      <td>29.802980</td>\n",
       "      <td>...</td>\n",
       "      <td>28.342001</td>\n",
       "      <td>11.925939</td>\n",
       "      <td>35.737141</td>\n",
       "      <td>12.488501</td>\n",
       "      <td>18.283139</td>\n",
       "      <td>18.963813</td>\n",
       "      <td>10.499065</td>\n",
       "      <td>34.504659</td>\n",
       "      <td>9.616706</td>\n",
       "      <td>19.436754</td>\n",
       "    </tr>\n",
       "  </tbody>\n",
       "</table>\n",
       "<p>7561 rows × 500 columns</p>\n",
       "</div>"
      ],
      "text/plain": [
       "            0          1         2          3          4          5    \\\n",
       "0      1.000000   1.000000  1.000000   1.000000   1.000000   1.000000   \n",
       "1      0.985706   1.006282  0.991263   0.998769   1.001073   1.010167   \n",
       "2      0.996156   1.011270  0.994433   1.015662   1.010868   1.016092   \n",
       "3      0.987849   1.016784  0.980324   1.027420   1.016172   1.023653   \n",
       "4      0.981709   1.027414  0.979711   1.032776   1.010694   1.027398   \n",
       "...         ...        ...       ...        ...        ...        ...   \n",
       "7556  22.573407  39.976065  9.330598  26.387421  39.278997  15.458772   \n",
       "7557  22.729648  40.501858  9.322056  26.657947  39.209343  15.495628   \n",
       "7558  23.008090  41.063538  9.231638  26.714558  39.334424  15.461826   \n",
       "7559  22.769899  40.412322  9.282789  26.796455  38.773764  15.481345   \n",
       "7560  22.875225  40.991977  9.097765  26.134957  38.448137  15.472514   \n",
       "\n",
       "            6          7          8          9    ...        490        491  \\\n",
       "0      1.000000   1.000000   1.000000   1.000000  ...   1.000000   1.000000   \n",
       "1      0.989996   0.999134   0.991506   0.987855  ...   0.983721   1.002444   \n",
       "2      0.990868   1.002833   0.982784   0.995120  ...   0.982927   1.005266   \n",
       "3      1.001812   0.995973   0.983272   0.997443  ...   0.976094   1.001524   \n",
       "4      0.998506   0.996806   0.991900   1.009711  ...   0.976719   1.001721   \n",
       "...         ...        ...        ...        ...  ...        ...        ...   \n",
       "7556  29.808666  16.892051  53.199687  29.372015  ...  27.928849  12.158927   \n",
       "7557  29.790569  16.820412  53.588979  29.279557  ...  27.893669  12.031581   \n",
       "7558  29.303600  17.089675  53.069166  29.825835  ...  27.822063  12.039681   \n",
       "7559  29.408035  17.108968  52.514067  29.905862  ...  28.432981  12.144619   \n",
       "7560  29.420890  17.015492  51.956149  29.802980  ...  28.342001  11.925939   \n",
       "\n",
       "            492        493        494        495        496        497  \\\n",
       "0      1.000000   1.000000   1.000000   1.000000   1.000000   1.000000   \n",
       "1      1.005247   1.003381   1.001638   0.979787   0.995982   1.004489   \n",
       "2      1.004336   1.007636   0.997721   0.978300   0.994754   1.002612   \n",
       "3      1.001685   1.008405   0.996544   0.975688   0.996663   1.009353   \n",
       "4      1.003657   1.021044   1.015987   0.963884   0.997382   1.009122   \n",
       "...         ...        ...        ...        ...        ...        ...   \n",
       "7556  35.526294  12.230807  17.592341  18.724214  10.207640  33.663482   \n",
       "7557  35.944412  12.337333  17.827903  18.778529  10.249565  34.233320   \n",
       "7558  36.136582  12.334587  18.028081  18.964398  10.287353  34.667724   \n",
       "7559  36.028437  12.446070  18.102887  18.916302  10.467489  34.793307   \n",
       "7560  35.737141  12.488501  18.283139  18.963813  10.499065  34.504659   \n",
       "\n",
       "           498        499  \n",
       "0     1.000000   1.000000  \n",
       "1     0.987742   1.008444  \n",
       "2     0.985319   0.984902  \n",
       "3     0.982706   1.000775  \n",
       "4     0.956499   1.005335  \n",
       "...        ...        ...  \n",
       "7556  9.658296  19.639249  \n",
       "7557  9.703249  19.608642  \n",
       "7558  9.765271  19.674512  \n",
       "7559  9.672804  19.363591  \n",
       "7560  9.616706  19.436754  \n",
       "\n",
       "[7561 rows x 500 columns]"
      ]
     },
     "execution_count": 76,
     "metadata": {},
     "output_type": "execute_result"
    }
   ],
   "source": [
    "# Run the Monte Carlo simulation to forecast 30 years cumulative returns\n",
    "mc_30yr.calc_cumulative_return()\n"
   ]
  },
  {
   "cell_type": "code",
   "execution_count": 77,
   "metadata": {},
   "outputs": [
    {
     "data": {
      "text/plain": [
       "<AxesSubplot:title={'center':'500 Simulations of Cumulative Portfolio Return Trajectories Over the Next 7560 Trading Days.'}>"
      ]
     },
     "execution_count": 77,
     "metadata": {},
     "output_type": "execute_result"
    },
    {
     "data": {
      "image/png": "[encoded data removed]",
      "text/plain": [
       "<Figure size 432x288 with 1 Axes>"
      ]
     },
     "metadata": {
      "needs_background": "light"
     },
     "output_type": "display_data"
    }
   ],
   "source": [
    "# Visualize the 30-year Monte Carlo simulation by creating an overlay line plot\n",
    "mc_30yr.plot_simulation()\n"
   ]
  },
  {
   "cell_type": "markdown",
   "metadata": {},
   "source": [
    "#### Step 3: Plot the probability distribution of the Monte Carlo simulation."
   ]
  },
  {
   "cell_type": "code",
   "execution_count": 78,
   "metadata": {},
   "outputs": [
    {
     "data": {
      "text/plain": [
       "<AxesSubplot:title={'center':'Distribution of Final Cumuluative Returns Across All 500 Simulations'}, ylabel='Frequency'>"
      ]
     },
     "execution_count": 78,
     "metadata": {},
     "output_type": "execute_result"
    },
    {
     "data": {
      "image/png": "[encoded data removed]",
      "text/plain": [
       "<Figure size 432x288 with 1 Axes>"
      ]
     },
     "metadata": {
      "needs_background": "light"
     },
     "output_type": "display_data"
    }
   ],
   "source": [
    "# Visualize the probability distribution of the 30-year Monte Carlo simulation \n",
    "# by plotting a histogram\n",
    "mc_30yr.plot_distribution()\n"
   ]
  },
  {
   "cell_type": "markdown",
   "metadata": {},
   "source": [
    "#### Step 4: Generate the summary statistics for the Monte Carlo simulation."
   ]
  },
  {
   "cell_type": "code",
   "execution_count": 79,
   "metadata": {},
   "outputs": [
    {
     "name": "stdout",
     "output_type": "stream",
     "text": [
      "count           500.000000\n",
      "mean             35.271546\n",
      "std              30.883330\n",
      "min               3.497131\n",
      "25%              16.977459\n",
      "50%              26.717542\n",
      "75%              42.471095\n",
      "max             257.839984\n",
      "95% CI Lower      6.621635\n",
      "95% CI Upper    113.074724\n",
      "Name: 7560, dtype: float64\n"
     ]
    }
   ],
   "source": [
    "# Generate summary statistics from the 30-year Monte Carlo simulation results\n",
    "# Save the results as a variable\n",
    "mc_30yr_statistics = mc_30yr.summarize_cumulative_return()\n",
    "\n",
    "\n",
    "# Review the 30-year Monte Carlo summary statistics\n",
    "print(mc_30yr_statistics)"
   ]
  },
  {
   "cell_type": "markdown",
   "metadata": {},
   "source": [
    "### Analyze the Retirement Portfolio Forecasts\n",
    "\n",
    "Using the current value of only the stock and bond portion of the member's portfolio and the summary statistics that you generated from the Monte Carlo simulation, answer the following question in your Jupyter notebook:\n",
    "\n",
    "-  What are the lower and upper bounds for the expected value of the portfolio with a 95% confidence interval?\n"
   ]
  },
  {
   "cell_type": "code",
   "execution_count": null,
   "metadata": {},
   "outputs": [],
   "source": [
    "# Print the current balance of the stock and bond portion of the members portfolio\n",
    "# YOUR CODE HERE\n"
   ]
  },
  {
   "cell_type": "code",
   "execution_count": null,
   "metadata": {},
   "outputs": [],
   "source": [
    "# Use the lower and upper `95%` confidence intervals to calculate the range of the possible outcomes for the current stock/bond portfolio\n",
    "ci_lower_thirty_cumulative_return = # YOUR CODE HERE\n",
    "ci_upper_thirty_cumulative_return = # YOUR CODE HERE\n",
    "\n",
    "# Print the result of your calculations\n",
    "# YOUR CODE HERE\n"
   ]
  },
  {
   "cell_type": "markdown",
   "metadata": {},
   "source": [
    "### Forecast Cumulative Returns in 10 Years\n",
    "\n",
    "The CTO of the credit union is impressed with your work on these planning tools but wonders if 30 years is a long time to wait until retirement. So, your next task is to adjust the retirement portfolio and run a new Monte Carlo simulation to find out if the changes will allow members to retire earlier.\n",
    "\n",
    "For this new Monte Carlo simulation, do the following: \n",
    "\n",
    "- Forecast the cumulative returns for 10 years from now. Because of the shortened investment horizon (30 years to 10 years), the portfolio needs to invest more heavily in the riskier asset&mdash;that is, stock&mdash;to help accumulate wealth for retirement. \n",
    "\n",
    "- Adjust the weights of the retirement portfolio so that the composition for the Monte Carlo simulation consists of 20% bonds and 80% stocks. \n",
    "\n",
    "- Run the simulation over 500 samples, and use the same data that the API call to Alpaca generated.\n",
    "\n",
    "- Based on the new Monte Carlo simulation, answer the following questions in your Jupyter notebook:\n",
    "\n",
    "    - Using the current value of only the stock and bond portion of the member's portfolio and the summary statistics that you generated from the new Monte Carlo simulation, what are the lower and upper bounds for the expected value of the portfolio (with the new weights) with a 95% confidence interval?\n",
    "\n",
    "    - Will weighting the portfolio more heavily toward stocks allow the credit union members to retire after only 10 years?\n"
   ]
  },
  {
   "cell_type": "code",
   "execution_count": null,
   "metadata": {},
   "outputs": [],
   "source": [
    "# Configure a Monte Carlo simulation to forecast 10 years cumulative returns\n",
    "# The weights should be split 20% to AGG and 80% to SPY.\n",
    "# Run 500 samples.\n",
    "# YOUR CODE HERE\n",
    "\n",
    "# Review the simulation input data\n",
    "# YOUR CODE HERE\n"
   ]
  },
  {
   "cell_type": "code",
   "execution_count": null,
   "metadata": {},
   "outputs": [],
   "source": [
    "# Run the Monte Carlo simulation to forecast 10 years cumulative returns\n",
    "# YOUR CODE HERE\n"
   ]
  },
  {
   "cell_type": "code",
   "execution_count": null,
   "metadata": {},
   "outputs": [],
   "source": [
    "# Visualize the 10-year Monte Carlo simulation by creating an\n",
    "# overlay line plot\n",
    "# YOUR CODE HERE\n"
   ]
  },
  {
   "cell_type": "code",
   "execution_count": null,
   "metadata": {},
   "outputs": [],
   "source": [
    "# Visualize the probability distribution of the 10-year Monte Carlo simulation \n",
    "# by plotting a histogram\n",
    "# YOUR CODE HERE\n"
   ]
  },
  {
   "cell_type": "code",
   "execution_count": null,
   "metadata": {},
   "outputs": [],
   "source": [
    "# Generate summary statistics from the 10-year Monte Carlo simulation results\n",
    "# Save the results as a variable\n",
    "# YOUR CODE HERE\n",
    "\n",
    "\n",
    "# Review the 10-year Monte Carlo summary statistics\n",
    "# YOUR CODE HERE"
   ]
  },
  {
   "cell_type": "markdown",
   "metadata": {},
   "source": [
    "### Answer the following questions:"
   ]
  },
  {
   "cell_type": "markdown",
   "metadata": {},
   "source": [
    "#### Question: Using the current value of only the stock and bond portion of the member's portfolio and the summary statistics that you generated from the new Monte Carlo simulation, what are the lower and upper bounds for the expected value of the portfolio (with the new weights) with a 95% confidence interval?"
   ]
  },
  {
   "cell_type": "code",
   "execution_count": null,
   "metadata": {},
   "outputs": [],
   "source": [
    "# Print the current balance of the stock and bond portion of the members portfolio\n",
    "# YOUR CODE HERE\n"
   ]
  },
  {
   "cell_type": "code",
   "execution_count": null,
   "metadata": {},
   "outputs": [],
   "source": [
    "# Use the lower and upper `95%` confidence intervals to calculate the range of the possible outcomes for the current stock/bond portfolio\n",
    "ci_lower_ten_cumulative_return = # YOUR CODE HERE\n",
    "ci_upper_ten_cumulative_return = # YOUR CODE HERE\n",
    "\n",
    "# Print the result of your calculations\n",
    "# YOUR CODE HERE\n"
   ]
  },
  {
   "cell_type": "markdown",
   "metadata": {},
   "source": [
    "#### Question: Will weighting the portfolio more heavily to stocks allow the credit union members to retire after only 10 years?"
   ]
  },
  {
   "cell_type": "raw",
   "metadata": {},
   "source": [
    "**Answer** # YOUR ANSWER HERE"
   ]
  },
  {
   "cell_type": "code",
   "execution_count": null,
   "metadata": {},
   "outputs": [],
   "source": []
  }
 ],
 "metadata": {
  "kernelspec": {
   "display_name": "dev_kernel",
   "language": "python",
   "name": "dev_kernel"
  },
  "language_info": {
   "codemirror_mode": {
    "name": "ipython",
    "version": 3
   },
   "file_extension": ".py",
   "mimetype": "text/x-python",
   "name": "python",
   "nbconvert_exporter": "python",
   "pygments_lexer": "ipython3",
   "version": "3.7.11"
  }
 },
 "nbformat": 4,
 "nbformat_minor": 4
}
